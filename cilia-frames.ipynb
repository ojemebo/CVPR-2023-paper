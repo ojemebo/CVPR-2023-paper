{
 "cells": [
  {
   "cell_type": "code",
   "execution_count": 1,
   "id": "b9b786d5-3f26-42a4-9446-b3f19d678631",
   "metadata": {},
   "outputs": [],
   "source": [
    "import numpy as np\n",
    "import pandas as pd\n",
    "import cv2"
   ]
  },
  {
   "cell_type": "code",
   "execution_count": 2,
   "id": "7d1bff8b-9587-48d1-aa33-74c1dc1bd55a",
   "metadata": {},
   "outputs": [],
   "source": [
    "# Extract image frames from cilia Video files\n",
    "cap= cv2.VideoCapture('C:/Users/blessing/Desktop/cilia_pcd2.mp4')\n",
    "i=0\n",
    "while(cap.isOpened()):\n",
    "    ret, frame = cap.read()\n",
    "    if ret == False:\n",
    "        break\n",
    "    cv2.imwrite('cilia_pcd'+str(i)+'.png',frame)\n",
    "    i+=1\n",
    "\n",
    "cap.release()\n",
    "cv2.destroyAllWindows()"
   ]
  },
  {
   "cell_type": "code",
   "execution_count": null,
   "id": "faa05eff-b336-4a21-a657-c0f45847ea74",
   "metadata": {},
   "outputs": [],
   "source": []
  }
 ],
 "metadata": {
  "kernelspec": {
   "display_name": "Python 3 (ipykernel)",
   "language": "python",
   "name": "python3"
  },
  "language_info": {
   "codemirror_mode": {
    "name": "ipython",
    "version": 3
   },
   "file_extension": ".py",
   "mimetype": "text/x-python",
   "name": "python",
   "nbconvert_exporter": "python",
   "pygments_lexer": "ipython3",
   "version": "3.9.12"
  }
 },
 "nbformat": 4,
 "nbformat_minor": 5
}
